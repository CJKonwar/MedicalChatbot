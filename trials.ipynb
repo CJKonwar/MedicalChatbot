{
 "cells": [
  {
   "cell_type": "code",
   "execution_count": 33,
   "metadata": {},
   "outputs": [],
   "source": [
    "from langchain import PromptTemplate\n",
    "from langchain.chains import RetrievalQA\n",
    "from langchain.embeddings import HuggingFaceEmbeddings\n",
    "from langchain.vectorstores import Pinecone\n",
    "import pinecone\n",
    "from langchain.document_loaders import PyPDFLoader, DirectoryLoader\n",
    "from langchain.text_splitter import RecursiveCharacterTextSplitter\n",
    "from langchain.prompts import PromptTemplate\n",
    "from langchain.llms import CTransformers\n",
    "\n",
    "\n"
   ]
  },
  {
   "cell_type": "code",
   "execution_count": 34,
   "metadata": {},
   "outputs": [],
   "source": [
    "#Extract data from the PDF\n",
    "def load_pdf(data):\n",
    "    loader = DirectoryLoader(data,\n",
    "                    glob=\"*.pdf\",\n",
    "                    loader_cls=PyPDFLoader)\n",
    "    \n",
    "    documents = loader.load()\n",
    "\n",
    "    return documents"
   ]
  },
  {
   "cell_type": "code",
   "execution_count": 35,
   "metadata": {},
   "outputs": [],
   "source": [
    "extracted_data = load_pdf(\"data/\")"
   ]
  },
  {
   "cell_type": "code",
   "execution_count": 36,
   "metadata": {},
   "outputs": [],
   "source": [
    "#Create text chunks\n",
    "def text_split(extracted_data):\n",
    "    text_splitter = RecursiveCharacterTextSplitter(chunk_size = 500, chunk_overlap = 20)\n",
    "    text_chunks = text_splitter.split_documents(extracted_data)\n",
    "\n",
    "    return text_chunks\n"
   ]
  },
  {
   "cell_type": "code",
   "execution_count": 37,
   "metadata": {},
   "outputs": [
    {
     "name": "stdout",
     "output_type": "stream",
     "text": [
      "length of my chunk: 7020\n"
     ]
    }
   ],
   "source": [
    "text_chunks = text_split(extracted_data)\n",
    "print(\"length of my chunk:\", len(text_chunks))"
   ]
  },
  {
   "cell_type": "code",
   "execution_count": 38,
   "metadata": {},
   "outputs": [],
   "source": [
    "def download_hugging_face_embeddings():\n",
    "    embeddings = HuggingFaceEmbeddings(model_name=\"sentence-transformers/all-MiniLM-L6-v2\")\n",
    "    return embeddings\n",
    "\n",
    "embeddings_model = download_hugging_face_embeddings()\n"
   ]
  },
  {
   "cell_type": "code",
   "execution_count": 39,
   "metadata": {},
   "outputs": [
    {
     "data": {
      "text/plain": [
       "HuggingFaceEmbeddings(client=SentenceTransformer(\n",
       "  (0): Transformer({'max_seq_length': 256, 'do_lower_case': False}) with Transformer model: BertModel \n",
       "  (1): Pooling({'word_embedding_dimension': 384, 'pooling_mode_cls_token': False, 'pooling_mode_mean_tokens': True, 'pooling_mode_max_tokens': False, 'pooling_mode_mean_sqrt_len_tokens': False})\n",
       "  (2): Normalize()\n",
       "), model_name='sentence-transformers/all-MiniLM-L6-v2', cache_folder=None, model_kwargs={}, encode_kwargs={})"
      ]
     },
     "execution_count": 39,
     "metadata": {},
     "output_type": "execute_result"
    }
   ],
   "source": [
    "embeddings_model"
   ]
  },
  {
   "cell_type": "code",
   "execution_count": 40,
   "metadata": {},
   "outputs": [
    {
     "name": "stdout",
     "output_type": "stream",
     "text": [
      "Length 384\n"
     ]
    }
   ],
   "source": [
    "query_result = embeddings_model.embed_query(\"Hello world\")\n",
    "print(\"Length\", len(query_result))"
   ]
  },
  {
   "cell_type": "code",
   "execution_count": 41,
   "metadata": {},
   "outputs": [],
   "source": [
    "\n",
    "from pinecone import Pinecone\n",
    "\n",
    "# Initialize Pinecone client\n",
    "api_key = \"76005231-c9e4-4584-8eec-1ab3080a8019\"\n",
    "pc = Pinecone(api_key=api_key, environment=\"aws\", region=\"us-east-1\", service=\"chatbot-frq4voi\")\n",
    "\n",
    "index_name = \"chatbot\""
   ]
  },
  {
   "cell_type": "code",
   "execution_count": 63,
   "metadata": {},
   "outputs": [],
   "source": [
    "def generate_embeddings(text_chunks, embeddings_model):\n",
    "    embeddings_list = []\n",
    "    for chunk in text_chunks:\n",
    "        # Generate embedding for each chunk of text\n",
    "        embedding = embeddings_model.encode(str(chunk))\n",
    "        embeddings_list.append(embedding)  # Assuming only one embedding per chunk\n",
    "    return embeddings_list\n"
   ]
  },
  {
   "cell_type": "code",
   "execution_count": 64,
   "metadata": {},
   "outputs": [
    {
     "ename": "AttributeError",
     "evalue": "'HuggingFaceEmbeddings' object has no attribute 'encode'",
     "output_type": "error",
     "traceback": [
      "\u001b[1;31m---------------------------------------------------------------------------\u001b[0m",
      "\u001b[1;31mAttributeError\u001b[0m                            Traceback (most recent call last)",
      "Cell \u001b[1;32mIn[64], line 1\u001b[0m\n\u001b[1;32m----> 1\u001b[0m embeddings_list \u001b[38;5;241m=\u001b[39m \u001b[43mgenerate_embeddings\u001b[49m\u001b[43m(\u001b[49m\u001b[43mtext_chunks\u001b[49m\u001b[43m,\u001b[49m\u001b[43m \u001b[49m\u001b[43membeddings_model\u001b[49m\u001b[43m)\u001b[49m\n",
      "Cell \u001b[1;32mIn[63], line 5\u001b[0m, in \u001b[0;36mgenerate_embeddings\u001b[1;34m(text_chunks, embeddings_model)\u001b[0m\n\u001b[0;32m      2\u001b[0m embeddings_list \u001b[38;5;241m=\u001b[39m []\n\u001b[0;32m      3\u001b[0m \u001b[38;5;28;01mfor\u001b[39;00m chunk \u001b[38;5;129;01min\u001b[39;00m text_chunks:\n\u001b[0;32m      4\u001b[0m     \u001b[38;5;66;03m# Generate embedding for each chunk of text\u001b[39;00m\n\u001b[1;32m----> 5\u001b[0m     embedding \u001b[38;5;241m=\u001b[39m \u001b[43membeddings_model\u001b[49m\u001b[38;5;241;43m.\u001b[39;49m\u001b[43mencode\u001b[49m(\u001b[38;5;28mstr\u001b[39m(chunk))\n\u001b[0;32m      6\u001b[0m     embeddings_list\u001b[38;5;241m.\u001b[39mappend(embedding)  \u001b[38;5;66;03m# Assuming only one embedding per chunk\u001b[39;00m\n\u001b[0;32m      7\u001b[0m \u001b[38;5;28;01mreturn\u001b[39;00m embeddings_list\n",
      "\u001b[1;31mAttributeError\u001b[0m: 'HuggingFaceEmbeddings' object has no attribute 'encode'"
     ]
    }
   ],
   "source": [
    "embeddings_list = generate_embeddings(text_chunks, embeddings_model)"
   ]
  },
  {
   "cell_type": "code",
   "execution_count": 65,
   "metadata": {},
   "outputs": [
    {
     "name": "stdout",
     "output_type": "stream",
     "text": [
      "[-3.17879394e-02  4.90619689e-02 -5.28125949e-02  2.07640603e-02\n",
      "  8.27199221e-03 -8.12541507e-03 -6.38942719e-02  6.47773668e-02\n",
      " -1.54679660e-02  3.33526842e-02  3.99441831e-02 -1.08290920e-02\n",
      "  4.01090868e-02 -7.22186863e-02 -5.50658815e-02  5.25086559e-02\n",
      " -1.30023316e-01 -4.68452945e-02 -8.10969323e-02 -6.27822354e-02\n",
      " -9.31243121e-04  1.05626449e-01  5.93985505e-02 -1.88697055e-02\n",
      "  3.56282480e-02 -3.38086300e-03 -7.48195499e-02  8.45949166e-03\n",
      " -6.21308461e-02 -5.69668636e-02  5.06398715e-02  5.20430617e-02\n",
      "  3.43506448e-02  5.72989807e-02  1.33494422e-01  6.39560148e-02\n",
      " -1.75358038e-02  2.09317333e-03  5.53194135e-02  1.01458989e-01\n",
      " -2.35288423e-02 -8.22416767e-02 -3.89629379e-02 -2.78309509e-02\n",
      " -2.17930619e-02 -6.97924048e-02 -7.33964071e-02 -6.68306872e-02\n",
      "  8.18725675e-02  7.35397413e-02 -1.58618137e-01 -2.61132047e-02\n",
      " -6.47537336e-02  4.72263582e-02  2.75570378e-02 -7.23998819e-04\n",
      " -2.21583694e-02 -9.31661651e-02 -1.00332916e-01 -7.61337131e-02\n",
      " -2.88476534e-02  1.12586450e-02 -1.68936010e-02  3.69275436e-02\n",
      " -9.51673742e-03  9.22736339e-03 -8.13819170e-02  3.18607315e-02\n",
      " -3.50285731e-02  2.14284658e-02 -6.12848699e-02  6.51648920e-03\n",
      " -5.21291532e-02  9.84362066e-02  5.30323870e-02 -9.21294093e-02\n",
      " -2.49733739e-02 -3.04644816e-02  4.99972589e-02 -1.23632409e-01\n",
      "  2.38440675e-03 -9.72461700e-03 -1.65956039e-02  6.79464266e-02\n",
      "  1.13905100e-02 -5.44739515e-02  4.48337123e-02  2.13367082e-02\n",
      "  3.43605950e-02  3.63301253e-03  4.65019606e-02 -1.08412635e-02\n",
      "  4.47671972e-02 -2.58974005e-02 -4.32392918e-02  3.28059159e-02\n",
      "  3.79803069e-02 -8.18254240e-03  1.41678397e-02  9.19168815e-02\n",
      " -1.10494411e-02 -3.85210514e-02  2.64214016e-02 -3.88371199e-02\n",
      " -9.05966535e-02 -7.44593143e-02  1.09150060e-01 -1.87707581e-02\n",
      " -2.13600770e-02 -6.31680116e-02  6.00126944e-03  2.33478379e-02\n",
      " -1.07212298e-01 -3.88340801e-02 -5.96409440e-02 -6.91684335e-03\n",
      "  7.96556920e-02 -1.02371508e-02  3.71365249e-02  5.91222644e-02\n",
      "  2.96549331e-02  4.06566150e-02 -5.30023202e-02  2.95525268e-02\n",
      " -6.43197224e-02 -1.70774292e-02 -6.52923307e-04  8.13346361e-33\n",
      " -1.31089911e-02  3.03826598e-03 -2.97794323e-02 -9.01331659e-03\n",
      "  3.68758254e-02  6.76719174e-02 -2.86201946e-02  9.16433334e-03\n",
      " -7.14937821e-02 -5.07139638e-02 -8.19611475e-02  3.28776352e-02\n",
      " -9.05729644e-03 -6.56220363e-03 -6.08086288e-02  4.45162654e-02\n",
      " -4.41979505e-02  5.12768663e-02 -5.85550629e-02  2.65965946e-02\n",
      "  7.15964660e-02 -5.76536497e-03 -3.36563252e-02  5.63454293e-02\n",
      " -7.25081787e-02  2.34070290e-02 -5.52689619e-02  1.98273733e-03\n",
      "  3.55789263e-04 -2.11239029e-02 -2.16463599e-02 -2.05184445e-02\n",
      "  1.84924006e-02 -1.22019216e-01  7.92343053e-04 -6.70551369e-03\n",
      " -6.07776875e-03 -3.68992686e-02  4.45509031e-02 -1.24148298e-02\n",
      " -3.90973836e-02  4.62396480e-02  7.93033540e-02 -2.05852445e-02\n",
      " -1.74820870e-02  2.92047355e-02 -3.34217586e-02  3.58016640e-02\n",
      "  4.73023690e-02  5.25650615e-03 -1.09964963e-02 -1.54525274e-02\n",
      "  7.56460503e-02  6.74290806e-02 -1.19416625e-03  4.06364575e-02\n",
      " -2.98635103e-02  6.72219992e-02  4.90165763e-02 -3.79175730e-02\n",
      "  2.60320697e-02  1.03412598e-01  3.37534882e-02 -2.79310737e-02\n",
      "  7.08462670e-02 -6.34669606e-03  2.92945150e-02  8.08176100e-02\n",
      "  7.69570619e-02  6.61483326e-04 -7.13730901e-02 -1.18201412e-02\n",
      "  4.50601541e-02  2.53520943e-02 -1.58575736e-02 -5.79272620e-02\n",
      " -5.24209738e-02 -7.64576346e-02 -1.92491412e-02 -8.16108063e-02\n",
      "  3.35845514e-03  5.56229986e-03 -3.67003269e-02 -5.66974096e-02\n",
      " -1.90422814e-02 -1.10519947e-02 -1.33751915e-03  9.78683867e-03\n",
      " -1.85117405e-02 -4.48420420e-02  4.24241135e-03  4.38752472e-02\n",
      " -2.47094911e-02 -5.01785539e-02  1.54774962e-02 -8.58654763e-33\n",
      "  3.88294794e-02 -7.83980042e-02  8.16744659e-03 -7.08259875e-03\n",
      "  6.35839477e-02  6.37860522e-02  3.14514451e-02 -1.85299683e-02\n",
      "  3.53983901e-02  1.28882360e-02  9.52694193e-02 -5.64514175e-02\n",
      " -7.98673257e-02 -1.20157987e-01  3.52748409e-02  2.64238846e-02\n",
      " -5.60300015e-02  3.12379673e-02 -7.18825907e-02 -1.11426068e-02\n",
      " -5.56169190e-02  8.03886801e-02  1.29320631e-02  1.50471285e-01\n",
      "  6.92341775e-02  1.80801600e-02  2.04490088e-02  3.88856456e-02\n",
      " -1.07590966e-02 -2.07924079e-02 -3.48885395e-02  2.84362100e-02\n",
      " -7.90769160e-02  5.82716130e-02 -2.57601738e-02  4.59602624e-02\n",
      " -3.14205908e-03  2.94961929e-02 -5.52639365e-02  3.64658609e-02\n",
      "  9.23600569e-02  3.27503346e-02 -1.69710536e-02 -3.08532733e-03\n",
      "  2.12291777e-02  1.08083505e-02 -3.12933465e-03 -9.44052124e-04\n",
      "  1.34874787e-02 -2.13157404e-02  1.86286513e-02 -3.49448062e-02\n",
      " -4.95301336e-02 -2.79944092e-02  6.36997446e-03  7.64363259e-03\n",
      "  1.35626812e-02 -9.82975066e-02 -9.63537768e-02 -1.04988292e-01\n",
      " -5.55165410e-02  2.44292952e-02 -1.60707273e-02  4.52653393e-02\n",
      "  6.52673990e-02 -8.90251175e-02 -7.90857226e-02  3.44273709e-02\n",
      " -6.60323910e-03  3.46641131e-02 -3.52890417e-02 -1.52021891e-03\n",
      "  2.62550414e-02 -1.53150991e-01  4.58464101e-02  9.56976190e-02\n",
      "  2.37956494e-02 -1.78932771e-02 -2.55663525e-02  2.15207301e-02\n",
      " -6.21952601e-02  3.05421446e-02  5.81469201e-02  7.97293037e-02\n",
      " -7.18517974e-02  3.64964046e-02 -8.51727836e-03  5.67901991e-02\n",
      " -4.67146076e-02 -4.53293957e-02  3.67488526e-03 -3.15892627e-03\n",
      "  7.55543709e-02  5.39407246e-02 -1.49788847e-02 -5.64243479e-08\n",
      " -2.69820169e-02  6.22528186e-03 -1.78338569e-02  5.45739383e-02\n",
      "  8.33794847e-03 -2.86476463e-02  1.70191023e-02  4.55870889e-02\n",
      " -7.02075567e-03  9.53442603e-03  6.97896071e-03 -3.64904180e-02\n",
      " -2.49434728e-02 -2.84089241e-02  7.55256182e-03  4.01987955e-02\n",
      " -3.45637500e-02  6.71530962e-02 -4.54465151e-02 -5.46014272e-02\n",
      "  4.27641273e-02 -3.09280921e-02 -1.53161725e-02  3.38760875e-02\n",
      "  3.35511118e-02  1.70620754e-02 -3.86531800e-02  2.04102118e-02\n",
      "  4.78161797e-02  1.26608992e-02  3.56577374e-02 -4.53137904e-02\n",
      " -9.35921073e-03  1.24792252e-02  5.76748177e-02 -6.92396089e-02\n",
      "  1.00407168e-01  3.31231253e-03 -7.45805502e-02  7.69775063e-02\n",
      "  1.82743613e-02  2.11159401e-02 -5.39191365e-02  4.26652394e-02\n",
      "  6.87868968e-02 -1.51817035e-02 -9.59492940e-03  7.91374147e-02\n",
      "  9.79722515e-02 -5.70183918e-02  1.91711467e-02 -7.22466856e-02\n",
      "  5.55724464e-02 -1.10566355e-02 -1.08924106e-01  9.59163904e-03\n",
      "  7.37778991e-02  1.11492485e-01 -2.74792910e-02 -7.12047219e-02\n",
      "  5.17183244e-02 -3.99557874e-02  4.27755564e-02  6.49160668e-02]\n"
     ]
    }
   ],
   "source": [
    "from sentence_transformers import SentenceTransformer\n",
    "sentences = [\"This is an example sentence\", \"Each sentence is converted\"]\n",
    "\n",
    "model = SentenceTransformer('sentence-transformers/all-MiniLM-L6-v2')\n",
    "embeddings = model.encode(str(text_chunks))\n",
    "print(embeddings)"
   ]
  },
  {
   "cell_type": "code",
   "execution_count": 67,
   "metadata": {},
   "outputs": [
    {
     "data": {
      "text/plain": [
       "384"
      ]
     },
     "execution_count": 67,
     "metadata": {},
     "output_type": "execute_result"
    }
   ],
   "source": [
    "len(embeddings)"
   ]
  },
  {
   "cell_type": "code",
   "execution_count": null,
   "metadata": {},
   "outputs": [],
   "source": []
  }
 ],
 "metadata": {
  "kernelspec": {
   "display_name": ".venv",
   "language": "python",
   "name": "python3"
  },
  "language_info": {
   "codemirror_mode": {
    "name": "ipython",
    "version": 3
   },
   "file_extension": ".py",
   "mimetype": "text/x-python",
   "name": "python",
   "nbconvert_exporter": "python",
   "pygments_lexer": "ipython3",
   "version": "3.12.3"
  }
 },
 "nbformat": 4,
 "nbformat_minor": 2
}
